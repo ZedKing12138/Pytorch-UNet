{
 "cells": [
  {
   "cell_type": "code",
   "execution_count": 1,
   "metadata": {},
   "outputs": [],
   "source": [
    "#modify unet（adapted for dynamic）\n",
    "#input： 1*3*144*176*144\n",
    "#        t_emd\n",
    "#output： 1*3*144*176*144\n",
    "\n"
   ]
  },
  {
   "cell_type": "code",
   "execution_count": 2,
   "metadata": {},
   "outputs": [],
   "source": [
    "#test pipeline datasize changes\n",
    "#input：1*1*64\n"
   ]
  },
  {
   "cell_type": "code",
   "execution_count": 3,
   "metadata": {},
   "outputs": [],
   "source": [
    "import torch\n",
    "import os\n",
    "from unet.unet_model import UNet\n",
    "\n",
    "device = \"cuda:0\"\n",
    "input_x = torch.rand(size=(1,1,256,256)).to(device)\n",
    "\n",
    "model = UNet(n_channels=1,n_classes=3,bilinear=False).to(device)\n",
    "out_mask = model(input_x)\n"
   ]
  }
 ],
 "metadata": {
  "kernelspec": {
   "display_name": "pytorch",
   "language": "python",
   "name": "python3"
  },
  "language_info": {
   "codemirror_mode": {
    "name": "ipython",
    "version": 3
   },
   "file_extension": ".py",
   "mimetype": "text/x-python",
   "name": "python",
   "nbconvert_exporter": "python",
   "pygments_lexer": "ipython3",
   "version": "3.8.17"
  }
 },
 "nbformat": 4,
 "nbformat_minor": 2
}
